{
  "nbformat": 4,
  "nbformat_minor": 0,
  "metadata": {
    "colab": {
      "provenance": [],
      "gpuType": "T4"
    },
    "kernelspec": {
      "name": "python3",
      "display_name": "Python 3"
    },
    "language_info": {
      "name": "python"
    },
    "accelerator": "GPU"
  },
  "cells": [
    {
      "cell_type": "markdown",
      "source": [
        "# Protein-ligand MD simulation\n",
        "\n",
        "Note, because conda is essential for openmm, you need to set parameters, then `Run All` twice (condacolab does a kernel restart.)\n",
        "\n",
        "The default simulation ([4O75+2RC](https://www.rcsb.org/3d-view/4O75/1),\n",
        "plus the LEU92HIS mutation)\n",
        "takes around 25m on a T4 GPU.\n",
        "\n",
        "colab by [@btnaughton](https://twitter.com/btnaughton)"
      ],
      "metadata": {
        "id": "dcgMuB0pMzg2"
      }
    },
    {
      "cell_type": "code",
      "source": [
        "#@title MD_protein_ligand PDB input\n",
        "\n",
        "pdb_id = '4O75' #@param {type:\"string\"}\n",
        "ligand_id = '2RC' #@param {type:\"string\"}\n",
        "#@markdown Since the ligand may be present on multiple chains, we must specify\n",
        "ligand_chain = \"A\" #@param {type:\"string\"}\n",
        "#@markdown Simulate solvent. Much much slower!\n",
        "use_solvent = False #@param {type:\"boolean\"}\n",
        "#@markdown Download a tar file containing all results?\n",
        "download_results = True #@param {type:\"boolean\"}\n",
        "#@markdown If minimize_only is True, then num_steps does nothing\n",
        "minimize_only = True #@param {type:\"boolean\"}\n",
        "num_steps = 0 #@param {type:\"number\"}\n",
        "\n",
        "#@markdown ## mutation\n",
        "#@markdown Optionally, mutate a position\n",
        "#@markdown (e.g., mutate \"LEU\" at residue 92 to \"HIS\" on chains \"A\" or \"AB\")\n",
        "mutate_from = \"LEU\" #@param {type:\"string\"}\n",
        "mutate_resn = 92 #@param {type:\"number\"}\n",
        "mutate_to = \"HIS\" #@param {type:\"string\"}\n",
        "mutate_chains = \"A\" #@param {type:\"string\"}"
      ],
      "metadata": {
        "id": "X5bfUvi9-uHk"
      },
      "execution_count": null,
      "outputs": []
    },
    {
      "cell_type": "code",
      "execution_count": null,
      "metadata": {
        "id": "dpeZmBC9bdpV"
      },
      "outputs": [],
      "source": [
        "!pip install -q condacolab\n",
        "import condacolab\n",
        "condacolab.install()"
      ]
    },
    {
      "cell_type": "code",
      "source": [
        "!mamba install -q openmm=8.0.0 openmmforcefields=0.11.2 pdbfixer=1.9 rdkit=2023.03.1 mdtraj=1.9.9 plotly=4.9.0 openff-toolkit=0.14.3 python-kaleido=0.2.1 mdanalysis=2.5.0 prody=2.4.0"
      ],
      "metadata": {
        "id": "bTY0qFO9bgi9"
      },
      "execution_count": null,
      "outputs": []
    },
    {
      "cell_type": "code",
      "source": [
        "!pip install git+https://github.com/hgbrian/MD_protein_ligand --quiet\n",
        "!pip install py3dmol==2.0.3 --quiet\n",
        "!pip install ipython-autotime --quiet\n",
        "%load_ext autotime"
      ],
      "metadata": {
        "id": "-CS-eKMDf775"
      },
      "execution_count": null,
      "outputs": []
    },
    {
      "cell_type": "markdown",
      "source": [
        "## Example 1\n",
        "We have a PDB file containing a ligand, minimize it.\n",
        "\n",
        "smina is faster than gnina, but use gnina for more serious cases"
      ],
      "metadata": {
        "id": "F2_ZJH1o-3uR"
      }
    },
    {
      "cell_type": "code",
      "source": [
        "from pathlib import Path\n",
        "from shutil import copy\n",
        "from MD_protein_ligand.simulate import get_pdb_and_extract_ligand, simulate\n",
        "\n",
        "# defaults / less common options\n",
        "use_pdb_redo = True\n",
        "\n",
        "SIM_PARAMS = dict(num_steps=num_steps,\n",
        "                  use_solvent=use_solvent, decoy_smiles=None, minimize_only=minimize_only,\n",
        "                  temperature=310, equilibration_steps=200,\n",
        "                  scoring_tool='smina')\n",
        "\n",
        "out_dir = f\"MD_protein_ligand/{pdb_id}_{ligand_id}\"\n",
        "\n",
        "prepared_files = get_pdb_and_extract_ligand(pdb_id, ligand_id,\n",
        "                                            out_dir=out_dir, use_pdb_redo=use_pdb_redo, ligand_chain=ligand_chain)\n",
        "\n",
        "sim_files = simulate(prepared_files[\"pdb\"], prepared_files[\"sdf\"], f\"{out_dir}/{pdb_id}_{ligand_id}\",\n",
        "                     **SIM_PARAMS)\n",
        "print(f\"{sim_files=}\")\n",
        "print(\"-\"*100)\n",
        "\n",
        "# mutate a residue and relax again!\n",
        "if all(param for param in (mutate_from, mutate_resn, mutate_to, mutate_chains)):\n",
        "    mutated_file = f\"{out_dir}/{Path(prepared_files['pdb']).stem}_{mutate_chains}_{mutate_from}{mutate_resn}{mutate_to}\"\n",
        "    copy(prepared_files[\"pdb\"], f\"{mutated_file}.pdb\")\n",
        "\n",
        "    mutated_prepared_files = get_pdb_and_extract_ligand(f\"{mutated_file}.pdb\", out_dir=out_dir,\n",
        "                                                        use_pdb_redo=use_pdb_redo, mutation=(mutate_from, mutate_resn, mutate_to, mutate_chains))\n",
        "    print(f\"{mutated_prepared_files=}\")\n",
        "\n",
        "    mutated_sim_files = simulate(mutated_prepared_files[\"pdb\"], prepared_files[\"sdf\"], mutated_file,\n",
        "                                 **SIM_PARAMS)"
      ],
      "metadata": {
        "id": "qqSjLZ3egUbz"
      },
      "execution_count": null,
      "outputs": []
    },
    {
      "cell_type": "code",
      "source": [
        "from google.colab import files\n",
        "from datetime import datetime\n",
        "import locale\n",
        "locale.getpreferredencoding = lambda: \"UTF-8\" # shrug\n",
        "\n",
        "if download_results:\n",
        "    tarname = f\"MD_protein_ligand_{datetime.now().isoformat()[2:10].replace('-','')}\"\n",
        "    _ = !tar cvf {tarname}.tar out\n",
        "\n",
        "    files.download(f\"{tarname}.tar\")"
      ],
      "metadata": {
        "id": "mpD4WNM5-goW"
      },
      "execution_count": null,
      "outputs": []
    },
    {
      "cell_type": "markdown",
      "source": [
        "Examine the difference in affinity between the complex (original PDB file) and the new minimized version.\n",
        "\n",
        "Optionally, compare this to mutated residues too."
      ],
      "metadata": {
        "id": "5uYZMt0FbmKv"
      }
    },
    {
      "cell_type": "code",
      "source": [
        "import pandas as pd\n",
        "\n",
        "df_aff = pd.read_csv(sim_files[\"smina_affinity_tsv\"], sep='\\t')\n",
        "if all(param for param in (mutate_from, mutate_resn, mutate_to, mutate_chains)):\n",
        "    df_aff = pd.concat([df_aff.assign(mutation=''),\n",
        "                        pd.read_csv(mutated_sim_files[\"smina_affinity_tsv\"], sep='\\t').assign(mutation=f\"{mutate_from}_{mutate_resn}_{mutate_to}\")])\n",
        "\n",
        "df_aff"
      ],
      "metadata": {
        "id": "m8tVas9Sbc1Q"
      },
      "execution_count": null,
      "outputs": []
    },
    {
      "cell_type": "code",
      "source": [
        "import py3Dmol\n",
        "\n",
        "resid_hover = \"\"\"\n",
        "function(atom,viewer) {\n",
        "    if(!atom.label) {\n",
        "        atom.label = viewer.addLabel(atom.chain+\" \"+atom.resn+\" \"+atom.resi,\n",
        "            {position: atom, backgroundColor: 'mintcream', fontColor:'black', fontSize:12});\n",
        "    }\n",
        "}\"\"\"\n",
        "unhover_func = \"\"\"\n",
        "function(atom,viewer) {\n",
        "    if(atom.label) {\n",
        "        viewer.removeLabel(atom.label);\n",
        "        delete atom.label;\n",
        "    }\n",
        "}\"\"\"\n",
        "\n",
        "view = py3Dmol.view(width=800, height=800)\n",
        "view.setCameraParameters({'fov': 35, 'z': 100});\n",
        "\n",
        "# add sdf\n",
        "view.addModel(open(sim_files['complex_pdb']).read(), \"pdb\")\n",
        "view.setStyle({\"model\": 0}, {\"cartoon\":{\"color\":\"#666666\"}})\n",
        "view.setStyle({\"model\": 0, \"hetflag\":True}, {'stick':{\"color\":\"#666666\"}})\n",
        "\n",
        "# add pdb\n",
        "view.addModel(open(sim_files['minimized_pdb']).read(), \"pdb\");\n",
        "view.setStyle({\"model\": 1}, {\"cartoon\":{\"color\":\"#df3964\"}})\n",
        "view.setStyle({\"model\": 1, \"hetflag\":True}, {'stick':{\"color\":\"#df4656\"}})\n",
        "view.zoomTo();\n",
        "\n",
        "model = view.getModel()\n",
        "model.setHoverable({}, True, resid_hover, unhover_func)\n",
        "\n",
        "view"
      ],
      "metadata": {
        "id": "cPZrZ5Gujc_k"
      },
      "execution_count": null,
      "outputs": []
    },
    {
      "cell_type": "code",
      "source": [],
      "metadata": {
        "id": "m_3zqQ9tcTUq"
      },
      "execution_count": null,
      "outputs": []
    }
  ]
}